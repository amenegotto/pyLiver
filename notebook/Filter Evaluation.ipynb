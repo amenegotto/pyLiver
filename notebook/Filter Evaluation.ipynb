{
 "cells": [
  {
   "cell_type": "code",
   "execution_count": 17,
   "metadata": {},
   "outputs": [
    {
     "name": "stderr",
     "output_type": "stream",
     "text": [
      "c:\\users\\hp\\appdata\\local\\programs\\python\\python35\\lib\\site-packages\\ipykernel_launcher.py:24: RuntimeWarning: overflow encountered in short_scalars\n"
     ]
    },
    {
     "name": "stdout",
     "output_type": "stream",
     "text": [
      "SSIM =  0.011597795698408055        MSE =  697385995.418808\n",
      "SSIM =  -6.850992479212441e-05        MSE =  394345.50598552055\n"
     ]
    },
    {
     "name": "stderr",
     "output_type": "stream",
     "text": [
      "c:\\users\\hp\\appdata\\local\\programs\\python\\python35\\lib\\site-packages\\skimage\\util\\dtype.py:126: UserWarning: Possible sign loss when converting negative image of type int16 to positive image of type uint16.\n",
      "  .format(dtypeobj_in, dtypeobj_out))\n",
      "c:\\users\\hp\\appdata\\local\\programs\\python\\python35\\lib\\site-packages\\skimage\\util\\dtype.py:130: UserWarning: Possible precision loss when converting from int16 to uint16\n",
      "  .format(dtypeobj_in, dtypeobj_out))\n"
     ]
    },
    {
     "name": "stdout",
     "output_type": "stream",
     "text": [
      "SSIM =  -1.3127042723447138e-05        MSE =  394259.9781230515\n",
      "SSIM =  1.074388630289893e-05        MSE =  394152.6464329034\n",
      "SSIM =  1.0875560512068707e-05        MSE =  394152.02762699674\n"
     ]
    },
    {
     "ename": "ValueError",
     "evalue": "Image must contain only positive values",
     "output_type": "error",
     "traceback": [
      "\u001b[1;31m---------------------------------------------------------------------------\u001b[0m",
      "\u001b[1;31mValueError\u001b[0m                                Traceback (most recent call last)",
      "\u001b[1;32m<ipython-input-17-1cbc8969bce5>\u001b[0m in \u001b[0;36m<module>\u001b[1;34m()\u001b[0m\n\u001b[0;32m     92\u001b[0m \u001b[1;33m\u001b[0m\u001b[0m\n\u001b[0;32m     93\u001b[0m \u001b[1;31m# Bilateral Denoise\u001b[0m\u001b[1;33m\u001b[0m\u001b[1;33m\u001b[0m\u001b[0m\n\u001b[1;32m---> 94\u001b[1;33m \u001b[0mimg_bilateral\u001b[0m \u001b[1;33m=\u001b[0m \u001b[0mdenoise_bilateral\u001b[0m\u001b[1;33m(\u001b[0m\u001b[0mimage\u001b[0m\u001b[1;33m,\u001b[0m \u001b[0msigma_color\u001b[0m\u001b[1;33m=\u001b[0m\u001b[1;36m0.1\u001b[0m\u001b[1;33m,\u001b[0m \u001b[0msigma_spatial\u001b[0m\u001b[1;33m=\u001b[0m\u001b[1;36m15\u001b[0m\u001b[1;33m,\u001b[0m \u001b[0mmultichannel\u001b[0m\u001b[1;33m=\u001b[0m\u001b[1;32mFalse\u001b[0m\u001b[1;33m)\u001b[0m\u001b[1;33m\u001b[0m\u001b[0m\n\u001b[0m\u001b[0;32m     95\u001b[0m \u001b[0mcompare_images\u001b[0m\u001b[1;33m(\u001b[0m\u001b[0mimgs\u001b[0m\u001b[1;33m,\u001b[0m \u001b[0mimg_bilateral\u001b[0m\u001b[1;33m)\u001b[0m\u001b[1;33m\u001b[0m\u001b[0m\n",
      "\u001b[1;32mc:\\users\\hp\\appdata\\local\\programs\\python\\python35\\lib\\site-packages\\skimage\\restoration\\_denoise.py\u001b[0m in \u001b[0;36mdenoise_bilateral\u001b[1;34m(image, win_size, sigma_color, sigma_spatial, bins, mode, cval, multichannel)\u001b[0m\n\u001b[0;32m    115\u001b[0m \u001b[1;33m\u001b[0m\u001b[0m\n\u001b[0;32m    116\u001b[0m     return _denoise_bilateral(image, win_size, sigma_color, sigma_spatial,\n\u001b[1;32m--> 117\u001b[1;33m                               bins, mode, cval)\n\u001b[0m\u001b[0;32m    118\u001b[0m \u001b[1;33m\u001b[0m\u001b[0m\n\u001b[0;32m    119\u001b[0m \u001b[1;33m\u001b[0m\u001b[0m\n",
      "\u001b[1;32mskimage\\restoration\\_denoise_cy.pyx\u001b[0m in \u001b[0;36mskimage.restoration._denoise_cy._denoise_bilateral\u001b[1;34m()\u001b[0m\n",
      "\u001b[1;31mValueError\u001b[0m: Image must contain only positive values"
     ]
    }
   ],
   "source": [
    "import numpy as np # linear algebra\n",
    "import pandas as pd # data processing, CSV file I/O (e.g. pd.read_csv)\n",
    "import skimage, os\n",
    "from skimage.morphology import ball, disk, dilation, binary_erosion, remove_small_objects, erosion, closing, reconstruction, binary_closing\n",
    "from skimage.measure import label,regionprops, perimeter\n",
    "from skimage.morphology import binary_dilation, binary_opening\n",
    "from skimage.filters import roberts, sobel\n",
    "from skimage import measure, feature\n",
    "from skimage.segmentation import clear_border\n",
    "from skimage import data\n",
    "from scipy import ndimage as ndi\n",
    "import matplotlib.pyplot as plt\n",
    "from mpl_toolkits.mplot3d.art3d import Poly3DCollection\n",
    "import pydicom\n",
    "import scipy.misc\n",
    "import numpy as np\n",
    "from skimage.measure import compare_ssim as ssim\n",
    "from skimage.measure import compare_mse as mse\n",
    "\n",
    "%matplotlib inline\n",
    "\n",
    "def compare_images(original, processed):\n",
    "    mse_noise = mse(original, processed)\n",
    "    ssim_noise = ssim(original, processed, data_range=processed.max() - processed.min())\n",
    "    print(\"SSIM = \", ssim_noise, \"       MSE = \", mse_noise)\n",
    "\n",
    "# Any results you write to the current directory are saved as output.\n",
    "lung = pydicom.read_file('c:/temp/000074.dcm')\n",
    "\n",
    "# convert to HounsField Scale\n",
    "image = np.stack(lung.pixel_array)\n",
    "\n",
    "# Convert to int16 (from sometimes int16), \n",
    "# should be possible as values should always be low enough (<32k)\n",
    "image = image.astype(np.int16)\n",
    "\n",
    "# Set outside-of-scan pixels to 1\n",
    "# The intercept is usually -1024, so air is approximately 0\n",
    "image[image == -2000] = 0\n",
    "#image[(image<-500)|(image>500)] = 0\n",
    "\n",
    "intercept = lung.RescaleIntercept\n",
    "slope = lung.RescaleSlope\n",
    "    \n",
    "if slope != 1:\n",
    "\timage = slope * image.astype(np.float64)\n",
    "\timage = image.astype(np.int16)\n",
    "        \n",
    "image += np.int16(intercept)\n",
    "    \n",
    "imgs = np.array(image, dtype=np.float64)\n",
    "\n",
    "#plt.imshow(imgs, cmap=plt.cm.bone)\n",
    "#plt.figure()\n",
    "#plt.hist(imgs, bins=20)\n",
    "#plt.show()\n",
    "\n",
    "##############################################################################################################\n",
    "from skimage import exposure\n",
    "\n",
    "p2, p98 = np.percentile(image, (2, 98))\n",
    "img_rescale = exposure.rescale_intensity(image, in_range=(p2, p98))\n",
    "\n",
    "compare_images(imgs, img_rescale)\n",
    "\n",
    "##############################################################################################################\n",
    "\n",
    "# Histogram Equalization\n",
    "img_eq = exposure.equalize_hist(image)\n",
    "compare_images(imgs, img_eq)\n",
    "\n",
    "##############################################################################################################\n",
    "\n",
    "# Adaptive Equalization\n",
    "img_adapteq = exposure.equalize_adapthist(image, clip_limit=0.15)\n",
    "compare_images(imgs, img_adapteq)\n",
    "\n",
    "###############################################################################################################\n",
    "\n",
    "#Denoise Chambolle\n",
    "from skimage.restoration import (denoise_tv_chambolle, denoise_bilateral,\n",
    "                                 denoise_wavelet, estimate_sigma)\n",
    "\n",
    "img_chamboelle = denoise_tv_chambolle(image, weight=0.1, multichannel=False)\n",
    "compare_images(imgs, img_chamboelle)\n",
    "\n",
    "################################################################################################################\n",
    "\n",
    "#Denoise Wavelet\n",
    "img_wavelet = denoise_wavelet(image, multichannel=True)\n",
    "compare_images(imgs, img_wavelet)\n",
    "\n",
    "# Bilateral Denoise\n",
    "img_bilateral = denoise_bilateral(image, sigma_color=0.1, sigma_spatial=15, multichannel=False)\n",
    "compare_images(imgs, img_bilateral)"
   ]
  },
  {
   "cell_type": "code",
   "execution_count": null,
   "metadata": {},
   "outputs": [],
   "source": []
  }
 ],
 "metadata": {
  "kernelspec": {
   "display_name": "Python 3",
   "language": "python",
   "name": "python3"
  },
  "language_info": {
   "codemirror_mode": {
    "name": "ipython",
    "version": 3
   },
   "file_extension": ".py",
   "mimetype": "text/x-python",
   "name": "python",
   "nbconvert_exporter": "python",
   "pygments_lexer": "ipython3",
   "version": "3.5.0"
  }
 },
 "nbformat": 4,
 "nbformat_minor": 2
}
