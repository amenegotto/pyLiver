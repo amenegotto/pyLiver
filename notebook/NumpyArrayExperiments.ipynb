{
 "cells": [
  {
   "cell_type": "code",
   "execution_count": 2,
   "metadata": {},
   "outputs": [
    {
     "name": "stderr",
     "output_type": "stream",
     "text": [
      "Using TensorFlow backend.\n"
     ]
    }
   ],
   "source": [
    "import pandas as pd\n",
    "import os\n",
    "import cv2\n",
    "from keras.preprocessing.image import img_to_array\n",
    "import numpy as np\n",
    "import matplotlib.pyplot as plt\n",
    "from ExecutionAttributes import ExecutionAttribute\n",
    "from keras.preprocessing.image import ImageDataGenerator\n",
    "import numpy as np\n",
    "\n",
    "\n"
   ]
  },
  {
   "cell_type": "code",
   "execution_count": 8,
   "metadata": {},
   "outputs": [
    {
     "name": "stdout",
     "output_type": "stream",
     "text": [
      "(800, 20)\n",
      "(200, 20)\n",
      "(100, 20)\n"
     ]
    }
   ],
   "source": [
    "path = '/home/amenegotto/dataset/2d/numpy/sem_pre_proc_mini/'\n",
    "x = np.load(path + 'attributes_train.npy')\n",
    "y = np.load(path + 'attributes_valid.npy')\n",
    "z = np.load(path + 'attributes_test.npy')\n",
    "\n",
    "print(x.shape)\n",
    "print(y.shape)\n",
    "print(z.shape)"
   ]
  },
  {
   "cell_type": "code",
   "execution_count": 9,
   "metadata": {},
   "outputs": [
    {
     "data": {
      "text/plain": [
       "array([[  1. ,  46. , 173. , ...,   4.4,   0.3,   1. ],\n",
       "       [  1. ,  46. , 173. , ...,   4.4,   0.3,   1. ],\n",
       "       [  1. ,  46. , 173. , ...,   4.4,   0.3,   1. ],\n",
       "       ...,\n",
       "       [  1. ,  68. , 169. , ...,   4.1,   6.1,   0.9],\n",
       "       [  0. ,  52. , 157. , ...,   4.2,   4.9,   1.1],\n",
       "       [  0. ,  52. , 157. , ...,   4.2,   4.9,   1.1]])"
      ]
     },
     "execution_count": 9,
     "metadata": {},
     "output_type": "execute_result"
    }
   ],
   "source": [
    "x"
   ]
  },
  {
   "cell_type": "code",
   "execution_count": 10,
   "metadata": {},
   "outputs": [
    {
     "data": {
      "text/plain": [
       "array([[  1. ,  25. , 185. , ...,   4. ,   1. ,   0.8],\n",
       "       [  1. ,  25. , 185. , ...,   4. ,   1. ,   0.8],\n",
       "       [  1. ,  25. , 185. , ...,   4. ,   1. ,   0.8],\n",
       "       ...,\n",
       "       [  0. ,  70. , 160. , ...,   4.1,   5. ,   0.9],\n",
       "       [  0. ,  70. , 160. , ...,   4.1,   5. ,   0.9],\n",
       "       [  0. ,  70. , 160. , ...,   4.1,   5. ,   0.9]])"
      ]
     },
     "execution_count": 10,
     "metadata": {},
     "output_type": "execute_result"
    }
   ],
   "source": [
    "y"
   ]
  },
  {
   "cell_type": "code",
   "execution_count": 11,
   "metadata": {},
   "outputs": [
    {
     "data": {
      "text/plain": [
       "array([[  1. ,  60. , 159. , ...,   4.4,   0.7,   0.8],\n",
       "       [  1. ,  60. , 159. , ...,   4.4,   0.7,   0.8],\n",
       "       [  1. ,  60. , 159. , ...,   4.4,   0.7,   0.8],\n",
       "       ...,\n",
       "       [  0. ,  70. , 160. , ...,   4.1,   5. ,   0.9],\n",
       "       [  0. ,  70. , 160. , ...,   4.1,   5. ,   0.9],\n",
       "       [  0. ,  70. , 160. , ...,   4.1,   5. ,   0.9]])"
      ]
     },
     "execution_count": 11,
     "metadata": {},
     "output_type": "execute_result"
    }
   ],
   "source": [
    "z"
   ]
  },
  {
   "cell_type": "code",
   "execution_count": 4,
   "metadata": {},
   "outputs": [],
   "source": [
    "clinical_data = pd.read_csv('csv/clinical_data.csv')"
   ]
  },
  {
   "cell_type": "code",
   "execution_count": 5,
   "metadata": {},
   "outputs": [],
   "source": [
    "patient_row = clinical_data[clinical_data[\"Patient\"] == 'foo']"
   ]
  },
  {
   "cell_type": "code",
   "execution_count": 6,
   "metadata": {},
   "outputs": [
    {
     "name": "stdout",
     "output_type": "stream",
     "text": [
      "Empty DataFrame\n",
      "Columns: [Source, Patient, Gender, Age at Diagnosis, Height, Weight, Race, Etnicity, Other Malignancy, Family History Cancer Indicator, Family History Cancer  Number Relatives, Alcohol, Hemochromatosis, Hepatitis, Non-Alcoholic Fatty Liver Disease, Other, AFP, Platelets, Prothrombin Time, Albumin, Total Bilirubin, Creatinine, Hcc]\n",
      "Index: []\n",
      "\n",
      "[0 rows x 23 columns]\n"
     ]
    }
   ],
   "source": [
    "print(patient_row)"
   ]
  },
  {
   "cell_type": "code",
   "execution_count": 7,
   "metadata": {},
   "outputs": [
    {
     "data": {
      "text/plain": [
       "True"
      ]
     },
     "execution_count": 7,
     "metadata": {},
     "output_type": "execute_result"
    }
   ],
   "source": [
    "patient_row.empty"
   ]
  },
  {
   "cell_type": "code",
   "execution_count": null,
   "metadata": {},
   "outputs": [],
   "source": []
  }
 ],
 "metadata": {
  "kernelspec": {
   "display_name": "Python 3",
   "language": "python",
   "name": "python3"
  },
  "language_info": {
   "codemirror_mode": {
    "name": "ipython",
    "version": 3
   },
   "file_extension": ".py",
   "mimetype": "text/x-python",
   "name": "python",
   "nbconvert_exporter": "python",
   "pygments_lexer": "ipython3",
   "version": "3.6.7"
  }
 },
 "nbformat": 4,
 "nbformat_minor": 2
}
